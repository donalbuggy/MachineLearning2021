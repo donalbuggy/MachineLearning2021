{
 "cells": [
  {
   "cell_type": "code",
   "execution_count": 4,
   "id": "ecf02674",
   "metadata": {},
   "outputs": [],
   "source": [
    "from sklearn import preprocessing, svm\n",
    "from sklearn.linear_model import LinearRegression\n",
    "from sklearn.model_selection import train_test_split\n",
    "import matplotlib.pyplot as plt\n",
    "import numpy as np\n",
    "import pandas as pd\n",
    "import seaborn as sns"
   ]
  },
  {
   "cell_type": "code",
   "execution_count": 10,
   "id": "89c7507a",
   "metadata": {},
   "outputs": [],
   "source": [
    "df = pd.read_csv('scptb04a_elect_201004.csv')"
   ]
  },
  {
   "cell_type": "code",
   "execution_count": 11,
   "id": "1d319f78",
   "metadata": {},
   "outputs": [
    {
     "data": {
      "text/html": [
       "<div>\n",
       "<style scoped>\n",
       "    .dataframe tbody tr th:only-of-type {\n",
       "        vertical-align: middle;\n",
       "    }\n",
       "\n",
       "    .dataframe tbody tr th {\n",
       "        vertical-align: top;\n",
       "    }\n",
       "\n",
       "    .dataframe thead th {\n",
       "        text-align: right;\n",
       "    }\n",
       "</style>\n",
       "<table border=\"1\" class=\"dataframe\">\n",
       "  <thead>\n",
       "    <tr style=\"text-align: right;\">\n",
       "      <th></th>\n",
       "      <th>Year</th>\n",
       "      <th>Light</th>\n",
       "      <th>Cold</th>\n",
       "      <th>Wet</th>\n",
       "      <th>Consumer Electrics</th>\n",
       "      <th>Home Computing</th>\n",
       "      <th>Cooking</th>\n",
       "      <th>Total</th>\n",
       "    </tr>\n",
       "  </thead>\n",
       "  <tbody>\n",
       "    <tr>\n",
       "      <th>0</th>\n",
       "      <td>2000</td>\n",
       "      <td>15.35</td>\n",
       "      <td>14.68</td>\n",
       "      <td>11.03</td>\n",
       "      <td>14.10</td>\n",
       "      <td>2.68</td>\n",
       "      <td>10.73</td>\n",
       "      <td>68.57</td>\n",
       "    </tr>\n",
       "    <tr>\n",
       "      <th>1</th>\n",
       "      <td>2001</td>\n",
       "      <td>15.26</td>\n",
       "      <td>14.59</td>\n",
       "      <td>11.16</td>\n",
       "      <td>14.63</td>\n",
       "      <td>3.04</td>\n",
       "      <td>10.81</td>\n",
       "      <td>69.49</td>\n",
       "    </tr>\n",
       "    <tr>\n",
       "      <th>2</th>\n",
       "      <td>2002</td>\n",
       "      <td>15.20</td>\n",
       "      <td>14.39</td>\n",
       "      <td>11.24</td>\n",
       "      <td>15.11</td>\n",
       "      <td>3.41</td>\n",
       "      <td>10.91</td>\n",
       "      <td>70.26</td>\n",
       "    </tr>\n",
       "    <tr>\n",
       "      <th>3</th>\n",
       "      <td>2003</td>\n",
       "      <td>15.15</td>\n",
       "      <td>14.14</td>\n",
       "      <td>11.32</td>\n",
       "      <td>15.88</td>\n",
       "      <td>3.76</td>\n",
       "      <td>11.01</td>\n",
       "      <td>71.26</td>\n",
       "    </tr>\n",
       "    <tr>\n",
       "      <th>4</th>\n",
       "      <td>2004</td>\n",
       "      <td>15.12</td>\n",
       "      <td>13.89</td>\n",
       "      <td>11.52</td>\n",
       "      <td>16.70</td>\n",
       "      <td>4.25</td>\n",
       "      <td>11.10</td>\n",
       "      <td>72.58</td>\n",
       "    </tr>\n",
       "    <tr>\n",
       "      <th>5</th>\n",
       "      <td>2005</td>\n",
       "      <td>15.09</td>\n",
       "      <td>13.67</td>\n",
       "      <td>11.72</td>\n",
       "      <td>17.07</td>\n",
       "      <td>4.67</td>\n",
       "      <td>11.19</td>\n",
       "      <td>73.42</td>\n",
       "    </tr>\n",
       "    <tr>\n",
       "      <th>6</th>\n",
       "      <td>2006</td>\n",
       "      <td>15.06</td>\n",
       "      <td>13.38</td>\n",
       "      <td>11.82</td>\n",
       "      <td>17.32</td>\n",
       "      <td>4.99</td>\n",
       "      <td>11.28</td>\n",
       "      <td>73.86</td>\n",
       "    </tr>\n",
       "    <tr>\n",
       "      <th>7</th>\n",
       "      <td>2007</td>\n",
       "      <td>15.03</td>\n",
       "      <td>13.07</td>\n",
       "      <td>11.91</td>\n",
       "      <td>17.65</td>\n",
       "      <td>5.26</td>\n",
       "      <td>11.33</td>\n",
       "      <td>74.24</td>\n",
       "    </tr>\n",
       "    <tr>\n",
       "      <th>8</th>\n",
       "      <td>2008</td>\n",
       "      <td>14.54</td>\n",
       "      <td>12.77</td>\n",
       "      <td>12.09</td>\n",
       "      <td>17.75</td>\n",
       "      <td>5.44</td>\n",
       "      <td>11.37</td>\n",
       "      <td>73.97</td>\n",
       "    </tr>\n",
       "  </tbody>\n",
       "</table>\n",
       "</div>"
      ],
      "text/plain": [
       "   Year  Light   Cold    Wet  Consumer Electrics  Home Computing  Cooking  \\\n",
       "0  2000  15.35  14.68  11.03               14.10            2.68    10.73   \n",
       "1  2001  15.26  14.59  11.16               14.63            3.04    10.81   \n",
       "2  2002  15.20  14.39  11.24               15.11            3.41    10.91   \n",
       "3  2003  15.15  14.14  11.32               15.88            3.76    11.01   \n",
       "4  2004  15.12  13.89  11.52               16.70            4.25    11.10   \n",
       "5  2005  15.09  13.67  11.72               17.07            4.67    11.19   \n",
       "6  2006  15.06  13.38  11.82               17.32            4.99    11.28   \n",
       "7  2007  15.03  13.07  11.91               17.65            5.26    11.33   \n",
       "8  2008  14.54  12.77  12.09               17.75            5.44    11.37   \n",
       "\n",
       "   Total  \n",
       "0  68.57  \n",
       "1  69.49  \n",
       "2  70.26  \n",
       "3  71.26  \n",
       "4  72.58  \n",
       "5  73.42  \n",
       "6  73.86  \n",
       "7  74.24  \n",
       "8  73.97  "
      ]
     },
     "execution_count": 11,
     "metadata": {},
     "output_type": "execute_result"
    }
   ],
   "source": [
    "df"
   ]
  },
  {
   "cell_type": "code",
   "execution_count": 14,
   "id": "53ab7c23",
   "metadata": {},
   "outputs": [],
   "source": [
    "df_electronicstotal = df[['Consumer Electrics','Total']]"
   ]
  },
  {
   "cell_type": "code",
   "execution_count": 15,
   "id": "53be9117",
   "metadata": {},
   "outputs": [
    {
     "data": {
      "text/html": [
       "<div>\n",
       "<style scoped>\n",
       "    .dataframe tbody tr th:only-of-type {\n",
       "        vertical-align: middle;\n",
       "    }\n",
       "\n",
       "    .dataframe tbody tr th {\n",
       "        vertical-align: top;\n",
       "    }\n",
       "\n",
       "    .dataframe thead th {\n",
       "        text-align: right;\n",
       "    }\n",
       "</style>\n",
       "<table border=\"1\" class=\"dataframe\">\n",
       "  <thead>\n",
       "    <tr style=\"text-align: right;\">\n",
       "      <th></th>\n",
       "      <th>Consumer Electrics</th>\n",
       "      <th>Total</th>\n",
       "    </tr>\n",
       "  </thead>\n",
       "  <tbody>\n",
       "    <tr>\n",
       "      <th>0</th>\n",
       "      <td>14.10</td>\n",
       "      <td>68.57</td>\n",
       "    </tr>\n",
       "    <tr>\n",
       "      <th>1</th>\n",
       "      <td>14.63</td>\n",
       "      <td>69.49</td>\n",
       "    </tr>\n",
       "    <tr>\n",
       "      <th>2</th>\n",
       "      <td>15.11</td>\n",
       "      <td>70.26</td>\n",
       "    </tr>\n",
       "    <tr>\n",
       "      <th>3</th>\n",
       "      <td>15.88</td>\n",
       "      <td>71.26</td>\n",
       "    </tr>\n",
       "    <tr>\n",
       "      <th>4</th>\n",
       "      <td>16.70</td>\n",
       "      <td>72.58</td>\n",
       "    </tr>\n",
       "    <tr>\n",
       "      <th>5</th>\n",
       "      <td>17.07</td>\n",
       "      <td>73.42</td>\n",
       "    </tr>\n",
       "    <tr>\n",
       "      <th>6</th>\n",
       "      <td>17.32</td>\n",
       "      <td>73.86</td>\n",
       "    </tr>\n",
       "    <tr>\n",
       "      <th>7</th>\n",
       "      <td>17.65</td>\n",
       "      <td>74.24</td>\n",
       "    </tr>\n",
       "    <tr>\n",
       "      <th>8</th>\n",
       "      <td>17.75</td>\n",
       "      <td>73.97</td>\n",
       "    </tr>\n",
       "  </tbody>\n",
       "</table>\n",
       "</div>"
      ],
      "text/plain": [
       "   Consumer Electrics  Total\n",
       "0               14.10  68.57\n",
       "1               14.63  69.49\n",
       "2               15.11  70.26\n",
       "3               15.88  71.26\n",
       "4               16.70  72.58\n",
       "5               17.07  73.42\n",
       "6               17.32  73.86\n",
       "7               17.65  74.24\n",
       "8               17.75  73.97"
      ]
     },
     "execution_count": 15,
     "metadata": {},
     "output_type": "execute_result"
    }
   ],
   "source": [
    "df_electronicstotal"
   ]
  },
  {
   "cell_type": "code",
   "execution_count": 16,
   "id": "bbd5d3f1",
   "metadata": {},
   "outputs": [
    {
     "data": {
      "text/plain": [
       "<seaborn.axisgrid.FacetGrid at 0x21526e0ed30>"
      ]
     },
     "execution_count": 16,
     "metadata": {},
     "output_type": "execute_result"
    },
    {
     "data": {
      "image/png": "[encoded data removed]",
      "text/plain": [
       "<Figure size 360x360 with 1 Axes>"
      ]
     },
     "metadata": {
      "needs_background": "light"
     },
     "output_type": "display_data"
    }
   ],
   "source": [
    "sns.lmplot(x =\"Consumer Electrics\", y =\"Total\", data = df_electronicstotal, order = 2, ci = None)"
   ]
  },
  {
   "cell_type": "code",
   "execution_count": 18,
   "id": "2134529c",
   "metadata": {},
   "outputs": [],
   "source": [
    "X = np.array(df_electronicstotal['Consumer Electrics']).reshape(-1, 1)\n",
    "y = np.array(df_electronicstotal['Total']).reshape(-1, 1)"
   ]
  },
  {
   "cell_type": "code",
   "execution_count": 19,
   "id": "9ec800ed",
   "metadata": {},
   "outputs": [],
   "source": [
    "X_train, X_test, y_train, y_test = train_test_split(X, y, test_size = 0.25)"
   ]
  },
  {
   "cell_type": "code",
   "execution_count": 20,
   "id": "874ad361",
   "metadata": {},
   "outputs": [
    {
     "name": "stdout",
     "output_type": "stream",
     "text": [
      "0.9778274131272606\n"
     ]
    }
   ],
   "source": [
    "regr = LinearRegression()\n",
    "\n",
    "regr.fit(X_train, y_train)\n",
    "\n",
    "print(regr.score(X_test, y_test))"
   ]
  },
  {
   "cell_type": "code",
   "execution_count": 21,
   "id": "dcf21367",
   "metadata": {},
   "outputs": [
    {
     "data": {
      "image/png": "[encoded data removed]",
      "text/plain": [
       "<Figure size 432x288 with 1 Axes>"
      ]
     },
     "metadata": {
      "needs_background": "light"
     },
     "output_type": "display_data"
    }
   ],
   "source": [
    "y_pred = regr.predict(X_test)\n",
    "\n",
    "plt.scatter(X_test, y_test, color ='b')\n",
    "\n",
    "plt.plot(X_test, y_pred, color ='k')\n",
    "\n",
    "plt.show()"
   ]
  },
  {
   "cell_type": "code",
   "execution_count": null,
   "id": "fd48a741",
   "metadata": {},
   "outputs": [],
   "source": []
  }
 ],
 "metadata": {
  "kernelspec": {
   "display_name": "Python 3 (ipykernel)",
   "language": "python",
   "name": "python3"
  },
  "language_info": {
   "codemirror_mode": {
    "name": "ipython",
    "version": 3
   },
   "file_extension": ".py",
   "mimetype": "text/x-python",
   "name": "python",
   "nbconvert_exporter": "python",
   "pygments_lexer": "ipython3",
   "version": "3.8.12"
  }
 },
 "nbformat": 4,
 "nbformat_minor": 5
}

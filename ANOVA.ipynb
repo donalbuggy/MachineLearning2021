{
 "cells": [
  {
   "cell_type": "markdown",
   "id": "dd975754",
   "metadata": {},
   "source": [
    "## Scipy.stats ANOVA"
   ]
  },
  {
   "cell_type": "code",
   "execution_count": 26,
   "id": "e58f3131",
   "metadata": {},
   "outputs": [],
   "source": [
    "import pandas as pd\n",
    "import seaborn as sns\n",
    "import scipy.stats as ss\n",
    "import numpy as np\n",
    "import collections as co\n",
    "import scipy.special as spec"
   ]
  },
  {
   "cell_type": "code",
   "execution_count": 10,
   "id": "8d955dab",
   "metadata": {
    "scrolled": true
   },
   "outputs": [
    {
     "data": {
      "text/html": [
       "<div>\n",
       "<style scoped>\n",
       "    .dataframe tbody tr th:only-of-type {\n",
       "        vertical-align: middle;\n",
       "    }\n",
       "\n",
       "    .dataframe tbody tr th {\n",
       "        vertical-align: top;\n",
       "    }\n",
       "\n",
       "    .dataframe thead th {\n",
       "        text-align: right;\n",
       "    }\n",
       "</style>\n",
       "<table border=\"1\" class=\"dataframe\">\n",
       "  <thead>\n",
       "    <tr style=\"text-align: right;\">\n",
       "      <th></th>\n",
       "      <th>Weight gain</th>\n",
       "      <th>diet amount</th>\n",
       "      <th>diet type</th>\n",
       "    </tr>\n",
       "  </thead>\n",
       "  <tbody>\n",
       "    <tr>\n",
       "      <th>0</th>\n",
       "      <td>118</td>\n",
       "      <td>1</td>\n",
       "      <td>Type1</td>\n",
       "    </tr>\n",
       "    <tr>\n",
       "      <th>1</th>\n",
       "      <td>117</td>\n",
       "      <td>1</td>\n",
       "      <td>Type1</td>\n",
       "    </tr>\n",
       "    <tr>\n",
       "      <th>2</th>\n",
       "      <td>111</td>\n",
       "      <td>1</td>\n",
       "      <td>Type1</td>\n",
       "    </tr>\n",
       "    <tr>\n",
       "      <th>3</th>\n",
       "      <td>107</td>\n",
       "      <td>1</td>\n",
       "      <td>Type1</td>\n",
       "    </tr>\n",
       "    <tr>\n",
       "      <th>4</th>\n",
       "      <td>104</td>\n",
       "      <td>1</td>\n",
       "      <td>Type1</td>\n",
       "    </tr>\n",
       "    <tr>\n",
       "      <th>5</th>\n",
       "      <td>102</td>\n",
       "      <td>1</td>\n",
       "      <td>Type1</td>\n",
       "    </tr>\n",
       "    <tr>\n",
       "      <th>6</th>\n",
       "      <td>100</td>\n",
       "      <td>1</td>\n",
       "      <td>Type1</td>\n",
       "    </tr>\n",
       "    <tr>\n",
       "      <th>7</th>\n",
       "      <td>87</td>\n",
       "      <td>1</td>\n",
       "      <td>Type1</td>\n",
       "    </tr>\n",
       "    <tr>\n",
       "      <th>8</th>\n",
       "      <td>81</td>\n",
       "      <td>1</td>\n",
       "      <td>Type1</td>\n",
       "    </tr>\n",
       "    <tr>\n",
       "      <th>9</th>\n",
       "      <td>73</td>\n",
       "      <td>1</td>\n",
       "      <td>Type1</td>\n",
       "    </tr>\n",
       "    <tr>\n",
       "      <th>10</th>\n",
       "      <td>120</td>\n",
       "      <td>1</td>\n",
       "      <td>Type2</td>\n",
       "    </tr>\n",
       "    <tr>\n",
       "      <th>11</th>\n",
       "      <td>108</td>\n",
       "      <td>1</td>\n",
       "      <td>Type2</td>\n",
       "    </tr>\n",
       "    <tr>\n",
       "      <th>12</th>\n",
       "      <td>105</td>\n",
       "      <td>1</td>\n",
       "      <td>Type2</td>\n",
       "    </tr>\n",
       "    <tr>\n",
       "      <th>13</th>\n",
       "      <td>102</td>\n",
       "      <td>1</td>\n",
       "      <td>Type2</td>\n",
       "    </tr>\n",
       "    <tr>\n",
       "      <th>14</th>\n",
       "      <td>102</td>\n",
       "      <td>1</td>\n",
       "      <td>Type2</td>\n",
       "    </tr>\n",
       "    <tr>\n",
       "      <th>15</th>\n",
       "      <td>98</td>\n",
       "      <td>1</td>\n",
       "      <td>Type2</td>\n",
       "    </tr>\n",
       "    <tr>\n",
       "      <th>16</th>\n",
       "      <td>96</td>\n",
       "      <td>1</td>\n",
       "      <td>Type2</td>\n",
       "    </tr>\n",
       "    <tr>\n",
       "      <th>17</th>\n",
       "      <td>94</td>\n",
       "      <td>1</td>\n",
       "      <td>Type2</td>\n",
       "    </tr>\n",
       "    <tr>\n",
       "      <th>18</th>\n",
       "      <td>91</td>\n",
       "      <td>1</td>\n",
       "      <td>Type2</td>\n",
       "    </tr>\n",
       "    <tr>\n",
       "      <th>19</th>\n",
       "      <td>79</td>\n",
       "      <td>1</td>\n",
       "      <td>Type2</td>\n",
       "    </tr>\n",
       "    <tr>\n",
       "      <th>20</th>\n",
       "      <td>111</td>\n",
       "      <td>1</td>\n",
       "      <td>Type3</td>\n",
       "    </tr>\n",
       "    <tr>\n",
       "      <th>21</th>\n",
       "      <td>98</td>\n",
       "      <td>1</td>\n",
       "      <td>Type3</td>\n",
       "    </tr>\n",
       "    <tr>\n",
       "      <th>22</th>\n",
       "      <td>95</td>\n",
       "      <td>1</td>\n",
       "      <td>Type3</td>\n",
       "    </tr>\n",
       "    <tr>\n",
       "      <th>23</th>\n",
       "      <td>92</td>\n",
       "      <td>1</td>\n",
       "      <td>Type3</td>\n",
       "    </tr>\n",
       "    <tr>\n",
       "      <th>24</th>\n",
       "      <td>88</td>\n",
       "      <td>1</td>\n",
       "      <td>Type3</td>\n",
       "    </tr>\n",
       "    <tr>\n",
       "      <th>25</th>\n",
       "      <td>86</td>\n",
       "      <td>1</td>\n",
       "      <td>Type3</td>\n",
       "    </tr>\n",
       "    <tr>\n",
       "      <th>26</th>\n",
       "      <td>82</td>\n",
       "      <td>1</td>\n",
       "      <td>Type3</td>\n",
       "    </tr>\n",
       "    <tr>\n",
       "      <th>27</th>\n",
       "      <td>77</td>\n",
       "      <td>1</td>\n",
       "      <td>Type3</td>\n",
       "    </tr>\n",
       "    <tr>\n",
       "      <th>28</th>\n",
       "      <td>74</td>\n",
       "      <td>1</td>\n",
       "      <td>Type3</td>\n",
       "    </tr>\n",
       "    <tr>\n",
       "      <th>29</th>\n",
       "      <td>56</td>\n",
       "      <td>1</td>\n",
       "      <td>Type3</td>\n",
       "    </tr>\n",
       "    <tr>\n",
       "      <th>30</th>\n",
       "      <td>95</td>\n",
       "      <td>2</td>\n",
       "      <td>Type1</td>\n",
       "    </tr>\n",
       "    <tr>\n",
       "      <th>31</th>\n",
       "      <td>90</td>\n",
       "      <td>2</td>\n",
       "      <td>Type1</td>\n",
       "    </tr>\n",
       "    <tr>\n",
       "      <th>32</th>\n",
       "      <td>90</td>\n",
       "      <td>2</td>\n",
       "      <td>Type1</td>\n",
       "    </tr>\n",
       "    <tr>\n",
       "      <th>33</th>\n",
       "      <td>90</td>\n",
       "      <td>2</td>\n",
       "      <td>Type1</td>\n",
       "    </tr>\n",
       "    <tr>\n",
       "      <th>34</th>\n",
       "      <td>86</td>\n",
       "      <td>2</td>\n",
       "      <td>Type1</td>\n",
       "    </tr>\n",
       "    <tr>\n",
       "      <th>35</th>\n",
       "      <td>78</td>\n",
       "      <td>2</td>\n",
       "      <td>Type1</td>\n",
       "    </tr>\n",
       "    <tr>\n",
       "      <th>36</th>\n",
       "      <td>76</td>\n",
       "      <td>2</td>\n",
       "      <td>Type1</td>\n",
       "    </tr>\n",
       "    <tr>\n",
       "      <th>37</th>\n",
       "      <td>72</td>\n",
       "      <td>2</td>\n",
       "      <td>Type1</td>\n",
       "    </tr>\n",
       "    <tr>\n",
       "      <th>38</th>\n",
       "      <td>64</td>\n",
       "      <td>2</td>\n",
       "      <td>Type1</td>\n",
       "    </tr>\n",
       "    <tr>\n",
       "      <th>39</th>\n",
       "      <td>51</td>\n",
       "      <td>2</td>\n",
       "      <td>Type1</td>\n",
       "    </tr>\n",
       "    <tr>\n",
       "      <th>40</th>\n",
       "      <td>106</td>\n",
       "      <td>2</td>\n",
       "      <td>Type2</td>\n",
       "    </tr>\n",
       "    <tr>\n",
       "      <th>41</th>\n",
       "      <td>97</td>\n",
       "      <td>2</td>\n",
       "      <td>Type2</td>\n",
       "    </tr>\n",
       "    <tr>\n",
       "      <th>42</th>\n",
       "      <td>86</td>\n",
       "      <td>2</td>\n",
       "      <td>Type2</td>\n",
       "    </tr>\n",
       "    <tr>\n",
       "      <th>43</th>\n",
       "      <td>82</td>\n",
       "      <td>2</td>\n",
       "      <td>Type2</td>\n",
       "    </tr>\n",
       "    <tr>\n",
       "      <th>44</th>\n",
       "      <td>82</td>\n",
       "      <td>2</td>\n",
       "      <td>Type2</td>\n",
       "    </tr>\n",
       "    <tr>\n",
       "      <th>45</th>\n",
       "      <td>81</td>\n",
       "      <td>2</td>\n",
       "      <td>Type2</td>\n",
       "    </tr>\n",
       "    <tr>\n",
       "      <th>46</th>\n",
       "      <td>73</td>\n",
       "      <td>2</td>\n",
       "      <td>Type2</td>\n",
       "    </tr>\n",
       "    <tr>\n",
       "      <th>47</th>\n",
       "      <td>70</td>\n",
       "      <td>2</td>\n",
       "      <td>Type2</td>\n",
       "    </tr>\n",
       "    <tr>\n",
       "      <th>48</th>\n",
       "      <td>61</td>\n",
       "      <td>2</td>\n",
       "      <td>Type2</td>\n",
       "    </tr>\n",
       "    <tr>\n",
       "      <th>49</th>\n",
       "      <td>49</td>\n",
       "      <td>2</td>\n",
       "      <td>Type2</td>\n",
       "    </tr>\n",
       "    <tr>\n",
       "      <th>50</th>\n",
       "      <td>107</td>\n",
       "      <td>2</td>\n",
       "      <td>Type3</td>\n",
       "    </tr>\n",
       "    <tr>\n",
       "      <th>51</th>\n",
       "      <td>98</td>\n",
       "      <td>2</td>\n",
       "      <td>Type3</td>\n",
       "    </tr>\n",
       "    <tr>\n",
       "      <th>52</th>\n",
       "      <td>97</td>\n",
       "      <td>2</td>\n",
       "      <td>Type3</td>\n",
       "    </tr>\n",
       "    <tr>\n",
       "      <th>53</th>\n",
       "      <td>95</td>\n",
       "      <td>2</td>\n",
       "      <td>Type3</td>\n",
       "    </tr>\n",
       "    <tr>\n",
       "      <th>54</th>\n",
       "      <td>89</td>\n",
       "      <td>2</td>\n",
       "      <td>Type3</td>\n",
       "    </tr>\n",
       "    <tr>\n",
       "      <th>55</th>\n",
       "      <td>80</td>\n",
       "      <td>2</td>\n",
       "      <td>Type3</td>\n",
       "    </tr>\n",
       "    <tr>\n",
       "      <th>56</th>\n",
       "      <td>74</td>\n",
       "      <td>2</td>\n",
       "      <td>Type3</td>\n",
       "    </tr>\n",
       "    <tr>\n",
       "      <th>57</th>\n",
       "      <td>74</td>\n",
       "      <td>2</td>\n",
       "      <td>Type3</td>\n",
       "    </tr>\n",
       "    <tr>\n",
       "      <th>58</th>\n",
       "      <td>67</td>\n",
       "      <td>2</td>\n",
       "      <td>Type3</td>\n",
       "    </tr>\n",
       "    <tr>\n",
       "      <th>59</th>\n",
       "      <td>58</td>\n",
       "      <td>2</td>\n",
       "      <td>Type3</td>\n",
       "    </tr>\n",
       "  </tbody>\n",
       "</table>\n",
       "</div>"
      ],
      "text/plain": [
       "    Weight gain  diet amount diet type\n",
       "0           118            1     Type1\n",
       "1           117            1     Type1\n",
       "2           111            1     Type1\n",
       "3           107            1     Type1\n",
       "4           104            1     Type1\n",
       "5           102            1     Type1\n",
       "6           100            1     Type1\n",
       "7            87            1     Type1\n",
       "8            81            1     Type1\n",
       "9            73            1     Type1\n",
       "10          120            1     Type2\n",
       "11          108            1     Type2\n",
       "12          105            1     Type2\n",
       "13          102            1     Type2\n",
       "14          102            1     Type2\n",
       "15           98            1     Type2\n",
       "16           96            1     Type2\n",
       "17           94            1     Type2\n",
       "18           91            1     Type2\n",
       "19           79            1     Type2\n",
       "20          111            1     Type3\n",
       "21           98            1     Type3\n",
       "22           95            1     Type3\n",
       "23           92            1     Type3\n",
       "24           88            1     Type3\n",
       "25           86            1     Type3\n",
       "26           82            1     Type3\n",
       "27           77            1     Type3\n",
       "28           74            1     Type3\n",
       "29           56            1     Type3\n",
       "30           95            2     Type1\n",
       "31           90            2     Type1\n",
       "32           90            2     Type1\n",
       "33           90            2     Type1\n",
       "34           86            2     Type1\n",
       "35           78            2     Type1\n",
       "36           76            2     Type1\n",
       "37           72            2     Type1\n",
       "38           64            2     Type1\n",
       "39           51            2     Type1\n",
       "40          106            2     Type2\n",
       "41           97            2     Type2\n",
       "42           86            2     Type2\n",
       "43           82            2     Type2\n",
       "44           82            2     Type2\n",
       "45           81            2     Type2\n",
       "46           73            2     Type2\n",
       "47           70            2     Type2\n",
       "48           61            2     Type2\n",
       "49           49            2     Type2\n",
       "50          107            2     Type3\n",
       "51           98            2     Type3\n",
       "52           97            2     Type3\n",
       "53           95            2     Type3\n",
       "54           89            2     Type3\n",
       "55           80            2     Type3\n",
       "56           74            2     Type3\n",
       "57           74            2     Type3\n",
       "58           67            2     Type3\n",
       "59           58            2     Type3"
      ]
     },
     "execution_count": 10,
     "metadata": {},
     "output_type": "execute_result"
    }
   ],
   "source": [
    "df = pd.read_csv('rat_weight_gain.csv')\n",
    "df"
   ]
  },
  {
   "cell_type": "markdown",
   "id": "a1667cd7",
   "metadata": {},
   "source": [
    "### Assumption 1: Depdent variable"
   ]
  },
  {
   "cell_type": "code",
   "execution_count": 11,
   "id": "f56729ed",
   "metadata": {
    "scrolled": true
   },
   "outputs": [
    {
     "data": {
      "text/plain": [
       "0     118\n",
       "1     117\n",
       "2     111\n",
       "3     107\n",
       "4     104\n",
       "5     102\n",
       "6     100\n",
       "7      87\n",
       "8      81\n",
       "9      73\n",
       "10    120\n",
       "11    108\n",
       "12    105\n",
       "13    102\n",
       "14    102\n",
       "15     98\n",
       "16     96\n",
       "17     94\n",
       "18     91\n",
       "19     79\n",
       "20    111\n",
       "21     98\n",
       "22     95\n",
       "23     92\n",
       "24     88\n",
       "25     86\n",
       "26     82\n",
       "27     77\n",
       "28     74\n",
       "29     56\n",
       "30     95\n",
       "31     90\n",
       "32     90\n",
       "33     90\n",
       "34     86\n",
       "35     78\n",
       "36     76\n",
       "37     72\n",
       "38     64\n",
       "39     51\n",
       "40    106\n",
       "41     97\n",
       "42     86\n",
       "43     82\n",
       "44     82\n",
       "45     81\n",
       "46     73\n",
       "47     70\n",
       "48     61\n",
       "49     49\n",
       "50    107\n",
       "51     98\n",
       "52     97\n",
       "53     95\n",
       "54     89\n",
       "55     80\n",
       "56     74\n",
       "57     74\n",
       "58     67\n",
       "59     58\n",
       "Name: Weight gain, dtype: int64"
      ]
     },
     "execution_count": 11,
     "metadata": {},
     "output_type": "execute_result"
    }
   ],
   "source": [
    "dependent = df['Weight gain']\n",
    "dependent"
   ]
  },
  {
   "cell_type": "code",
   "execution_count": 12,
   "id": "36a595bf",
   "metadata": {},
   "outputs": [
    {
     "data": {
      "text/plain": [
       "count     60.000000\n",
       "mean      87.866667\n",
       "std       16.569798\n",
       "min       49.000000\n",
       "25%       76.750000\n",
       "50%       89.500000\n",
       "75%       98.500000\n",
       "max      120.000000\n",
       "Name: Weight gain, dtype: float64"
      ]
     },
     "execution_count": 12,
     "metadata": {},
     "output_type": "execute_result"
    }
   ],
   "source": [
    "dependent.describe()"
   ]
  },
  {
   "cell_type": "markdown",
   "id": "866da7ed",
   "metadata": {},
   "source": [
    "### Assumption 2: Independent variable"
   ]
  },
  {
   "cell_type": "code",
   "execution_count": 13,
   "id": "8c3cfc78",
   "metadata": {
    "scrolled": true
   },
   "outputs": [
    {
     "data": {
      "text/plain": [
       "0     Type1\n",
       "1     Type1\n",
       "2     Type1\n",
       "3     Type1\n",
       "4     Type1\n",
       "5     Type1\n",
       "6     Type1\n",
       "7     Type1\n",
       "8     Type1\n",
       "9     Type1\n",
       "10    Type2\n",
       "11    Type2\n",
       "12    Type2\n",
       "13    Type2\n",
       "14    Type2\n",
       "15    Type2\n",
       "16    Type2\n",
       "17    Type2\n",
       "18    Type2\n",
       "19    Type2\n",
       "20    Type3\n",
       "21    Type3\n",
       "22    Type3\n",
       "23    Type3\n",
       "24    Type3\n",
       "25    Type3\n",
       "26    Type3\n",
       "27    Type3\n",
       "28    Type3\n",
       "29    Type3\n",
       "30    Type1\n",
       "31    Type1\n",
       "32    Type1\n",
       "33    Type1\n",
       "34    Type1\n",
       "35    Type1\n",
       "36    Type1\n",
       "37    Type1\n",
       "38    Type1\n",
       "39    Type1\n",
       "40    Type2\n",
       "41    Type2\n",
       "42    Type2\n",
       "43    Type2\n",
       "44    Type2\n",
       "45    Type2\n",
       "46    Type2\n",
       "47    Type2\n",
       "48    Type2\n",
       "49    Type2\n",
       "50    Type3\n",
       "51    Type3\n",
       "52    Type3\n",
       "53    Type3\n",
       "54    Type3\n",
       "55    Type3\n",
       "56    Type3\n",
       "57    Type3\n",
       "58    Type3\n",
       "59    Type3\n",
       "Name: diet type, dtype: object"
      ]
     },
     "execution_count": 13,
     "metadata": {},
     "output_type": "execute_result"
    }
   ],
   "source": [
    "independent = df['diet type']\n",
    "independent"
   ]
  },
  {
   "cell_type": "markdown",
   "id": "8fa16844",
   "metadata": {},
   "source": [
    "### Assumption 4: Outliers"
   ]
  },
  {
   "cell_type": "code",
   "execution_count": 14,
   "id": "3406598c",
   "metadata": {},
   "outputs": [
    {
     "data": {
      "text/plain": [
       "<AxesSubplot:xlabel='Weight gain', ylabel='diet type'>"
      ]
     },
     "execution_count": 14,
     "metadata": {},
     "output_type": "execute_result"
    },
    {
     "data": {
      "image/png": "[encoded data removed]",
      "text/plain": [
       "<Figure size 432x288 with 1 Axes>"
      ]
     },
     "metadata": {
      "needs_background": "light"
     },
     "output_type": "display_data"
    }
   ],
   "source": [
    "sns.boxplot(x = dependent, y = independent)"
   ]
  },
  {
   "cell_type": "markdown",
   "id": "19c6de93",
   "metadata": {},
   "source": [
    "### Assumption 5: Normality"
   ]
  },
  {
   "cell_type": "code",
   "execution_count": 16,
   "id": "d98a73ea",
   "metadata": {},
   "outputs": [
    {
     "data": {
      "text/plain": [
       "<seaborn.axisgrid.FacetGrid at 0x2a4c81e8760>"
      ]
     },
     "execution_count": 16,
     "metadata": {},
     "output_type": "execute_result"
    },
    {
     "data": {
      "image/png": "[encoded data removed]",
      "text/plain": [
       "<Figure size 425.125x360 with 1 Axes>"
      ]
     },
     "metadata": {
      "needs_background": "light"
     },
     "output_type": "display_data"
    }
   ],
   "source": [
    "sns.displot(x = dependent, hue = independent, kind = \"kde\")"
   ]
  },
  {
   "cell_type": "code",
   "execution_count": 18,
   "id": "da1af0b7",
   "metadata": {
    "scrolled": true
   },
   "outputs": [
    {
     "data": {
      "text/plain": [
       "0     118\n",
       "1     117\n",
       "2     111\n",
       "3     107\n",
       "4     104\n",
       "5     102\n",
       "6     100\n",
       "7      87\n",
       "8      81\n",
       "9      73\n",
       "30     95\n",
       "31     90\n",
       "32     90\n",
       "33     90\n",
       "34     86\n",
       "35     78\n",
       "36     76\n",
       "37     72\n",
       "38     64\n",
       "39     51\n",
       "Name: Weight gain, dtype: int64"
      ]
     },
     "execution_count": 18,
     "metadata": {},
     "output_type": "execute_result"
    }
   ],
   "source": [
    "type_1_gain = dependent[independent == 'Type1']\n",
    "type_1_gain"
   ]
  },
  {
   "cell_type": "code",
   "execution_count": 19,
   "id": "7bc66c94",
   "metadata": {},
   "outputs": [
    {
     "data": {
      "text/plain": [
       "ShapiroResult(statistic=0.9803934693336487, pvalue=0.9390798211097717)"
      ]
     },
     "execution_count": 19,
     "metadata": {},
     "output_type": "execute_result"
    }
   ],
   "source": [
    "ss.shapiro(type_1_gain)"
   ]
  },
  {
   "cell_type": "code",
   "execution_count": 20,
   "id": "b65dfcea",
   "metadata": {},
   "outputs": [
    {
     "data": {
      "text/plain": [
       "ShapiroResult(statistic=0.9722667336463928, pvalue=0.8018485903739929)"
      ]
     },
     "execution_count": 20,
     "metadata": {},
     "output_type": "execute_result"
    }
   ],
   "source": [
    "ss.shapiro(dependent[independent == 'Type2'])"
   ]
  },
  {
   "cell_type": "code",
   "execution_count": 21,
   "id": "bc972a8e",
   "metadata": {},
   "outputs": [
    {
     "data": {
      "text/plain": [
       "ShapiroResult(statistic=0.9713431596755981, pvalue=0.7829576134681702)"
      ]
     },
     "execution_count": 21,
     "metadata": {},
     "output_type": "execute_result"
    }
   ],
   "source": [
    "ss.shapiro(dependent[independent == 'Type3'])"
   ]
  },
  {
   "cell_type": "markdown",
   "id": "c2d81a07",
   "metadata": {},
   "source": [
    "### Assumption 6: homogeneity of variances"
   ]
  },
  {
   "cell_type": "code",
   "execution_count": 22,
   "id": "944ec239",
   "metadata": {},
   "outputs": [
    {
     "data": {
      "text/plain": [
       "LeveneResult(statistic=0.1799729364005414, pvalue=0.8357656173211195)"
      ]
     },
     "execution_count": 22,
     "metadata": {},
     "output_type": "execute_result"
    }
   ],
   "source": [
    "ss.levene(\n",
    "    dependent[independent == 'Type1'],\n",
    "    dependent[independent == 'Type2'],\n",
    "    dependent[independent == 'Type3'])"
   ]
  },
  {
   "cell_type": "markdown",
   "id": "10c77a2c",
   "metadata": {},
   "source": [
    "---"
   ]
  },
  {
   "cell_type": "markdown",
   "id": "9a0bc796",
   "metadata": {},
   "source": [
    "## One-way ANOVA"
   ]
  },
  {
   "cell_type": "code",
   "execution_count": 23,
   "id": "b4002d2a",
   "metadata": {},
   "outputs": [
    {
     "data": {
      "text/plain": [
       "F_onewayResult(statistic=0.47677688232783505, pvalue=0.6232342640383861)"
      ]
     },
     "execution_count": 23,
     "metadata": {},
     "output_type": "execute_result"
    }
   ],
   "source": [
    "ss.f_oneway(\n",
    "    dependent[independent == 'Type1'],\n",
    "    dependent[independent == 'Type2'],\n",
    "    dependent[independent == 'Type3']\n",
    ")"
   ]
  },
  {
   "cell_type": "markdown",
   "id": "dadb1423",
   "metadata": {},
   "source": [
    "---"
   ]
  },
  {
   "cell_type": "code",
   "execution_count": 24,
   "id": "b97c763a",
   "metadata": {},
   "outputs": [],
   "source": [
    "def welch_anova_np(*args, var_equal=False):\n",
    "    # https://svn.r-project.org/R/trunk/src/library/stats/R/oneway.test.R\n",
    "    # translated from R Welch ANOVA (not assuming equal variance)\n",
    "\n",
    "    F_onewayResult = co.namedtuple('F_onewayResult', ('statistic', 'pvalue'))\n",
    "\n",
    "    args = [np.asarray(arg, dtype=float) for arg in args]\n",
    "    k = len(args)\n",
    "    ni = np.array([len(arg) for arg in args])\n",
    "    mi = np.array([np.mean(arg) for arg in args])\n",
    "    vi = np.array([np.var(arg,ddof=1) for arg in args])\n",
    "    wi = ni/vi\n",
    "\n",
    "    tmp =sum((1-wi/sum(wi))**2 / (ni-1))\n",
    "    tmp /= (k**2 -1)\n",
    "\n",
    "    dfbn = k - 1\n",
    "    dfwn = 1 / (3 * tmp)\n",
    "\n",
    "    m = sum(mi*wi) / sum(wi)\n",
    "    f = sum(wi * (mi - m)**2) /((dfbn) * (1 + 2 * (dfbn - 1) * tmp))\n",
    "    prob = spec.fdtrc(dfbn, dfwn, f)   # equivalent to stats.f.sf\n",
    "    return F_onewayResult(f, prob)"
   ]
  },
  {
   "cell_type": "code",
   "execution_count": 25,
   "id": "8da8be45",
   "metadata": {},
   "outputs": [
    {
     "data": {
      "text/plain": [
       "F_onewayResult(statistic=0.5172504093761462, pvalue=0.6003186623381341)"
      ]
     },
     "execution_count": 25,
     "metadata": {},
     "output_type": "execute_result"
    }
   ],
   "source": [
    "welch_anova_np(\n",
    "    dependent[independent == 'Type1'],\n",
    "    dependent[independent == 'Type2'],\n",
    "    dependent[independent == 'Type3']\n",
    ")"
   ]
  },
  {
   "cell_type": "markdown",
   "id": "0a975971",
   "metadata": {},
   "source": [
    "---"
   ]
  },
  {
   "cell_type": "markdown",
   "id": "1e29b83f",
   "metadata": {},
   "source": [
    "## Statsmodels"
   ]
  },
  {
   "cell_type": "code",
   "execution_count": null,
   "id": "279a0b45",
   "metadata": {},
   "outputs": [],
   "source": []
  }
 ],
 "metadata": {
  "kernelspec": {
   "display_name": "Python 3 (ipykernel)",
   "language": "python",
   "name": "python3"
  },
  "language_info": {
   "codemirror_mode": {
    "name": "ipython",
    "version": 3
   },
   "file_extension": ".py",
   "mimetype": "text/x-python",
   "name": "python",
   "nbconvert_exporter": "python",
   "pygments_lexer": "ipython3",
   "version": "3.8.12"
  }
 },
 "nbformat": 4,
 "nbformat_minor": 5
}
